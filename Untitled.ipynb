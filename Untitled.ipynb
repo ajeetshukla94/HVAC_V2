{
 "cells": [
  {
   "cell_type": "code",
   "execution_count": 11,
   "metadata": {},
   "outputs": [
    {
     "name": "stdout",
     "output_type": "stream",
     "text": [
      "Connection established\n"
     ]
    }
   ],
   "source": [
    "import mysql.connector\n",
    "from mysql.connector import errorcode\n",
    "\n",
    "# Obtain connection string information from the portal\n",
    "\n",
    "config = {\n",
    "  'host':\"mypinpointserver.mysql.database.azure.com\",\n",
    "  'port':\"3306\",\n",
    "  'user':\"arissdb@mypinpointserver\",\n",
    "  'password':\"Ashijyoti@12\",\n",
    "  'db':'PPEHVACDB'\n",
    "}\n",
    "\n",
    "# Construct connection string\n",
    "\n",
    "try:\n",
    "    conn = mysql.connector.connect(**config)\n",
    "    print(\"Connection established\")\n",
    "except mysql.connector.Error as err:\n",
    "    if err.errno == errorcode.ER_ACCESS_DENIED_ERROR:\n",
    "        print(\"Something is wrong with the user name or password\")\n",
    "    elif err.errno == errorcode.ER_BAD_DB_ERROR:\n",
    "        print(\"Database does not exist\")\n",
    "    else:\n",
    "        print(err)\n",
    "else:\n",
    "    cursor = conn.cursor()"
   ]
  },
  {
   "cell_type": "code",
   "execution_count": 8,
   "metadata": {},
   "outputs": [
    {
     "name": "stdout",
     "output_type": "stream",
     "text": [
      "Connection established\n"
     ]
    }
   ],
   "source": [
    "config1 = {\n",
    "  'host':\"mypinpointserverflexi.mysql.database.azure.com\",\n",
    "  'port':\"3306\",\n",
    "  'user':\"arissdb\",\n",
    "  'password':\"Ashijyoti@12\",\n",
    "  'db':'PPEHVACDB'\n",
    "}\n",
    "\n",
    "\n",
    "try:\n",
    "    conn1 = mysql.connector.connect(**config1)\n",
    "    print(\"Connection established\")\n",
    "except mysql.connector.Error as err:\n",
    "    if err.errno == errorcode.ER_ACCESS_DENIED_ERROR:\n",
    "        print(\"Something is wrong with the user name or password\")\n",
    "    elif err.errno == errorcode.ER_BAD_DB_ERROR:\n",
    "        print(\"Database does not exist\")\n",
    "    else:\n",
    "        print(err)\n",
    "else:\n",
    "    cursor1 = conn1.cursor()"
   ]
  },
  {
   "cell_type": "markdown",
   "metadata": {},
   "source": [
    "## User Table Creation"
   ]
  },
  {
   "cell_type": "code",
   "execution_count": 9,
   "metadata": {},
   "outputs": [],
   "source": [
    "cursor1.execute(\"\"\"\n",
    " create table ppehvacdb.USERS \n",
    " (USERNAME varchar(255), \n",
    " COMPANYNAME varchar(255),\n",
    " FNAME varchar(255),\n",
    " LNAME varchar(255),\n",
    " ROLE varchar(255),\n",
    " PASSWORD varchar(255),\n",
    " EMAILID varchar(255),\n",
    " STATUS varchar(255) )\n",
    "\"\"\")\n",
    "conn1.commit()"
   ]
  },
  {
   "cell_type": "code",
   "execution_count": 16,
   "metadata": {},
   "outputs": [],
   "source": [
    "conn = mysql.connector.connect(**config1)\n",
    "cursor = conn.cursor()\n",
    "cursor.execute(\"truncate ppehvacdb.users\")\n",
    "conn1.commit()"
   ]
  },
  {
   "cell_type": "code",
   "execution_count": 17,
   "metadata": {},
   "outputs": [
    {
     "name": "stdout",
     "output_type": "stream",
     "text": [
      "admin\n",
      "ashdu78\n",
      "guestus62\n",
      "deepura90\n",
      "deepura78\n",
      "dilipsi11\n",
      "arjunsi69\n",
      "sureshku78\n",
      "mukulgo80\n",
      "anujku89\n",
      "anujku31\n",
      "annush54\n",
      "suryasi65\n",
      "ranjeetku21\n",
      "purushku16\n",
      "deepakku36\n",
      "archanaj63\n",
      "nirmalama64\n",
      "pummyne59\n",
      "unimedicolabs47\n",
      "immaculeli13\n",
      "unila65\n",
      "arjunsi60\n",
      "abhishekra24\n",
      "indiagl50\n",
      "higgshe53\n",
      "nplbi45\n",
      "tfcph53\n",
      "abhinavsi60\n",
      "themisme93\n"
     ]
    }
   ],
   "source": [
    "conn = mysql.connector.connect(**config)\n",
    "cursor = conn.cursor()\n",
    "cursor.execute(\"select * from ppehvacdb.users\")\n",
    "\n",
    "for row in cursor:\n",
    "    print(row[0])\n",
    "    query = \"\"\"INSERT INTO ppehvacdb.USERS (\n",
    "    USERNAME ,\n",
    "    COMPANYNAME,\n",
    "    FNAME,\n",
    "    LNAME ,\n",
    "    ROLE, \n",
    "    PASSWORD,\n",
    "    EMAILID,\n",
    "    STATUS)\n",
    "    VALUES ( '{}','{}','{}','{}','{}','{}','{}','{}')\"\"\".format(\n",
    "    row[0],\n",
    "    row[1],\n",
    "    row[2],\n",
    "    row[3],\n",
    "    row[4],\n",
    "    row[5],\n",
    "    row[6],row[7])\n",
    "    conn1 = mysql.connector.connect(**config1)\n",
    "    cursor1 = conn1.cursor()\n",
    "    cursor1.execute(query)\n",
    "    conn1.commit()"
   ]
  },
  {
   "cell_type": "code",
   "execution_count": 20,
   "metadata": {},
   "outputs": [
    {
     "name": "stdout",
     "output_type": "stream",
     "text": [
      "('def', 'ppehvacdb', 'expensemaster', 'request_id', 1, None, 'NO', 'int', None, None, 10, 0, None, None, None, 'int(11)', 'PRI', 'auto_increment', 'select,insert,update,references', '', '')\n",
      "('def', 'ppehvacdb', 'expensemaster', 'Expensetype', 2, None, 'YES', 'varchar', 255, 255, None, None, None, 'latin1', 'latin1_swedish_ci', 'varchar(255)', '', '', 'select,insert,update,references', '', '')\n",
      "('def', 'ppehvacdb', 'expensemaster', 'company_name', 3, None, 'YES', 'varchar', 255, 255, None, None, None, 'latin1', 'latin1_swedish_ci', 'varchar(255)', '', '', 'select,insert,update,references', '', '')\n",
      "('def', 'ppehvacdb', 'expensemaster', 'Description', 4, None, 'YES', 'varchar', 255, 255, None, None, None, 'latin1', 'latin1_swedish_ci', 'varchar(255)', '', '', 'select,insert,update,references', '', '')\n",
      "('def', 'ppehvacdb', 'expensemaster', 'Amount_requested', 5, None, 'YES', 'varchar', 255, 255, None, None, None, 'latin1', 'latin1_swedish_ci', 'varchar(255)', '', '', 'select,insert,update,references', '', '')\n",
      "('def', 'ppehvacdb', 'expensemaster', 'Amount_approved', 6, None, 'YES', 'varchar', 255, 255, None, None, None, 'latin1', 'latin1_swedish_ci', 'varchar(255)', '', '', 'select,insert,update,references', '', '')\n",
      "('def', 'ppehvacdb', 'expensemaster', 'userID', 7, None, 'YES', 'varchar', 255, 255, None, None, None, 'latin1', 'latin1_swedish_ci', 'varchar(255)', '', '', 'select,insert,update,references', '', '')\n",
      "('def', 'ppehvacdb', 'expensemaster', 'userName', 8, None, 'YES', 'varchar', 255, 255, None, None, None, 'latin1', 'latin1_swedish_ci', 'varchar(255)', '', '', 'select,insert,update,references', '', '')\n",
      "('def', 'ppehvacdb', 'expensemaster', 'date', 9, None, 'YES', 'varchar', 255, 255, None, None, None, 'latin1', 'latin1_swedish_ci', 'varchar(255)', '', '', 'select,insert,update,references', '', '')\n",
      "('def', 'ppehvacdb', 'expensemaster', 'STATUS', 10, None, 'YES', 'varchar', 255, 255, None, None, None, 'latin1', 'latin1_swedish_ci', 'varchar(255)', '', '', 'select,insert,update,references', '', '')\n",
      "('def', 'ppehvacdb', 'expensemaster', 'updatedBY', 11, None, 'YES', 'varchar', 255, 255, None, None, None, 'latin1', 'latin1_swedish_ci', 'varchar(255)', '', '', 'select,insert,update,references', '', '')\n"
     ]
    }
   ],
   "source": [
    "stmt =\"select * from INFORMATION_SCHEMA.COLUMNS where TABLE_NAME='ExpenseMaster'\"\n",
    "conn = mysql.connector.connect(**config)\n",
    "cursor = conn.cursor()\n",
    "cursor.execute(stmt)\n",
    "expense_list = []\n",
    "for row in cursor:\n",
    "    print(row)"
   ]
  },
  {
   "cell_type": "code",
   "execution_count": 66,
   "metadata": {},
   "outputs": [
    {
     "name": "stdout",
     "output_type": "stream",
     "text": [
      "('01/01/2023 19:37:33', '04/01/2023 20:39:32')\n"
     ]
    }
   ],
   "source": [
    "stmt = \"\"\"SELECT   min(a.date) , max(a.date) from ppehvacdb.ExpenseMaster a\n",
    "where str_to_date(a.date,'%d/%m/%Y') >=str_to_date('01/01/2023','%d/%m/%Y') \n",
    "and str_to_date(a.date,'%d/%m/%Y') <=str_to_date('04/01/2023','%d/%m/%Y') \n",
    "\n",
    "\"\"\"\n",
    "#where Cast(a.date as date)  > Cast('01/01/2023' as date) limit 2\"# where STATUS='{}'\".format(status)\n",
    "conn = mysql.connector.connect(**config)\n",
    "cursor = conn.cursor()\n",
    "cursor.execute(stmt)\n",
    "expense_list = []\n",
    "for row in cursor:\n",
    "    print(row)\n",
    "    #expense_list.append(list(row))"
   ]
  },
  {
   "cell_type": "code",
   "execution_count": 10,
   "metadata": {},
   "outputs": [
    {
     "name": "stdout",
     "output_type": "stream",
     "text": [
      "('01/01/2023 20:32:22', '01/01/2023 19:37:33')\n"
     ]
    }
   ],
   "source": [
    "stmt = \"SELECT max(date), min(date) from ppehvacdb.ExpenseMaster where date between '01/01/2023' and '01/04/2023'\"# where STATUS='{}'\".format(status)\n",
    "conn = mysql.connector.connect(**config)\n",
    "cursor = conn.cursor()\n",
    "cursor.execute(stmt)\n",
    "expense_list = []\n",
    "for row in cursor:\n",
    "    print(row)\n",
    "    #expense_list.append(list(row))"
   ]
  },
  {
   "cell_type": "code",
   "execution_count": 2,
   "metadata": {
    "scrolled": true
   },
   "outputs": [
    {
     "name": "stdout",
     "output_type": "stream",
     "text": [
      "('admin', 'admin', 'admin', 'admin', '205f0f3ff2d9531c54cb61ceb7bed9db11cb7a9a56b654d8d1efc6982f50122e', 'pinpointengineers@hotmail.com', 'ACTIVE')\n",
      "('ashdu78', 'ash', 'dubey', 'admin', 'd8e30ba91ce170c5a6b37b8df5480a9134472d3609b6ac30cc915eed5e6c0b44', 'pinpointengineers@hotmail.com', 'ACTIVE')\n",
      "('guestus62', 'guest', 'user', 'documentcell', '86a7284b7930a3423c976be459331ab1aa38e84093b283fdf19f85e88252ff38', 'pinpointengineers@hotmail.com', 'ACTIVE')\n",
      "('deepura90', 'deepu', 'rana', 'operation', '5f0e70016589f693a08c730aab12811f6b63a1c4821c2a66aac9249fac7e4f75', 'pinpointengineers@hotmail.com', 'ACTIVE')\n",
      "('deepura78', 'deepu', 'rana', 'operation', '703fd2a7da9d2c21e8a684fb245f8c44c03e23da1ec596886eb70f7bc9605ea3', 'pinpointengineers@hotmail.com', 'ACTIVE')\n",
      "('dilipsi11', 'dilip', 'singh', 'analyst', '121313308acf489bdcc5076d3f6978bc47dfd8f5617742934e6e9477beac1511', 'pinpointengineers@hotmail.com', 'ACTIVE')\n",
      "('arjunsi69', 'arjun', 'singh', 'analyst', '52ed80413719829c29d63699fc3830ed1652500112b0f970dbd3e85aa9368342', 'pinpointengineers@hotmail.com', 'ACTIVE')\n",
      "('sureshku78', 'suresh', 'kumar', 'analyst', '1b8fe2ed80fbc7396665f217fb53e585d87a7995f356d57cbc48d728de2bd9fd', 'pinpointengineers@hotmail.com', 'ACTIVE')\n",
      "('mukulgo80', 'mukul', 'goel', 'analyst', '51eeccf00a6e654935d137fab24bc27224633dfbc08566fd96e26c137c71b0c2', 'pinpointengineers@hotmail.com', 'ACTIVE')\n",
      "('anujku89', 'anuj', 'kumar', 'analyst', '21fb3c37f4735e68db2a9155a6de2415a7b88f22c7e737bf21c44b2d7dc3ffbc', 'pinpointengineers@hotmail.com', 'ACTIVE')\n",
      "('anujku31', 'anuj', 'kumar', 'analyst', '567191d9a2f080a83164765d3d4fe4ae9842a04874ccef9eb2c3e0c0cec25b8d', 'pinpointengineers@hotmail.com', 'ACTIVE')\n",
      "('annush54', 'annu', 'sharma', 'documentcell', 'bef4452bcfdbac1644b560769313dab7eece4765a83dd103eadeae251764f21c', 'pinpointengineers@hotmail.com', 'ACTIVE')\n",
      "('suryasi65', 'surya', 'singh', 'analyst', '3ac3bd79bc41ce86840c2192ec9f7355c8f2b8680539bd549d86a7d08db79b9e', 'pinpointengineers@hotmail.com', 'ACTIVE')\n",
      "('ranjeetku21', 'ranjeet', 'kumar', 'analyst', 'ff07a456d9108d322f238f0b5c884688b50ca07f43c481b06905e2f49b133a7a', 'pinpointengineers@hotmail.com', 'ACTIVE')\n",
      "('purushku16', 'purush', 'kumar', 'analyst', '84ed0d7c80eb47d717ee05c8548281ad87a5a31237c646b57d0821d223de78da', 'pinpointengineers@hotmail.com', 'ACTIVE')\n",
      "('deepakku36', 'deepak', 'kumar', 'analyst', '64a23eb2b958a13f2c2bb04e3a9d8bebfb089ed9709919e71e719a4b7db6a746', 'pinpointengineers@hotmail.com', 'ACTIVE')\n",
      "('archanaj63', 'archana', 'j', 'documentcell', '46cca675fd3b78d2f301e83d1c7693987691098b6c1df21de0def72315d40d1e', 'pinpointengineers@hotmail.com', 'ACTIVE')\n",
      "('nirmalama64', 'nirmala', 'maurya', 'documentcell', 'e580759739a4e691a9e98b37f7a036500a0580902f3bb34aacdf6fa565b36f1d', 'pinpointengineers@hotmail.com', 'ACTIVE')\n",
      "('pummyne59', 'pummy', 'negi', 'documentcell', 'edc063b448ef119eed3a9b31c61370ea41fbbff7c5ae3b69de5972d9135727b2', 'pinpointengineers@hotmail.com', 'ACTIVE')\n"
     ]
    }
   ],
   "source": [
    "cursor.execute(\"select * from ppehvacdb.users\")\n",
    "\n",
    "for row in cursor:\n",
    "    print(row)\n",
    "            "
   ]
  },
  {
   "cell_type": "code",
   "execution_count": 7,
   "metadata": {},
   "outputs": [
    {
     "name": "stdout",
     "output_type": "stream",
     "text": [
      "('admin', 'admin', 'admin', 'admin', '205f0f3ff2d9531c54cb61ceb7bed9db11cb7a9a56b654d8d1efc6982f50122e', 'pinpointengineers@hotmail.com', 'ACTIVE', 'Pin Point Engineers')\n",
      "('ashdu78', 'ash', 'dubey', 'admin', 'd8e30ba91ce170c5a6b37b8df5480a9134472d3609b6ac30cc915eed5e6c0b44', 'pinpointengineers@hotmail.com', 'ACTIVE', 'Pin Point Engineers')\n",
      "('guestus62', 'guest', 'user', 'documentcell', '86a7284b7930a3423c976be459331ab1aa38e84093b283fdf19f85e88252ff38', 'pinpointengineers@hotmail.com', 'ACTIVE', 'Pin Point Engineers')\n",
      "('deepura90', 'deepu', 'rana', 'operation', '5f0e70016589f693a08c730aab12811f6b63a1c4821c2a66aac9249fac7e4f75', 'pinpointengineers@hotmail.com', 'ACTIVE', 'Pin Point Engineers')\n",
      "('deepura78', 'deepu', 'rana', 'operation', '703fd2a7da9d2c21e8a684fb245f8c44c03e23da1ec596886eb70f7bc9605ea3', 'pinpointengineers@hotmail.com', 'ACTIVE', 'Pin Point Engineers')\n",
      "('dilipsi11', 'dilip', 'singh', 'analyst', '121313308acf489bdcc5076d3f6978bc47dfd8f5617742934e6e9477beac1511', 'pinpointengineers@hotmail.com', 'ACTIVE', 'Pin Point Engineers')\n",
      "('arjunsi69', 'arjun', 'singh', 'analyst', '52ed80413719829c29d63699fc3830ed1652500112b0f970dbd3e85aa9368342', 'pinpointengineers@hotmail.com', 'ACTIVE', 'Pin Point Engineers')\n",
      "('sureshku78', 'suresh', 'kumar', 'analyst', '1b8fe2ed80fbc7396665f217fb53e585d87a7995f356d57cbc48d728de2bd9fd', 'pinpointengineers@hotmail.com', 'ACTIVE', 'Pin Point Engineers')\n",
      "('mukulgo80', 'mukul', 'goel', 'analyst', '51eeccf00a6e654935d137fab24bc27224633dfbc08566fd96e26c137c71b0c2', 'pinpointengineers@hotmail.com', 'ACTIVE', 'Pin Point Engineers')\n",
      "('anujku89', 'anuj', 'kumar', 'analyst', '21fb3c37f4735e68db2a9155a6de2415a7b88f22c7e737bf21c44b2d7dc3ffbc', 'pinpointengineers@hotmail.com', 'ACTIVE', 'Pin Point Engineers')\n",
      "('anujku31', 'anuj', 'kumar', 'analyst', '567191d9a2f080a83164765d3d4fe4ae9842a04874ccef9eb2c3e0c0cec25b8d', 'pinpointengineers@hotmail.com', 'ACTIVE', 'Pin Point Engineers')\n",
      "('annush54', 'annu', 'sharma', 'documentcell', 'bef4452bcfdbac1644b560769313dab7eece4765a83dd103eadeae251764f21c', 'pinpointengineers@hotmail.com', 'ACTIVE', 'Pin Point Engineers')\n",
      "('suryasi65', 'surya', 'singh', 'analyst', '3ac3bd79bc41ce86840c2192ec9f7355c8f2b8680539bd549d86a7d08db79b9e', 'pinpointengineers@hotmail.com', 'ACTIVE', 'Pin Point Engineers')\n",
      "('ranjeetku21', 'ranjeet', 'kumar', 'analyst', 'ff07a456d9108d322f238f0b5c884688b50ca07f43c481b06905e2f49b133a7a', 'pinpointengineers@hotmail.com', 'ACTIVE', 'Pin Point Engineers')\n",
      "('purushku16', 'purush', 'kumar', 'analyst', '84ed0d7c80eb47d717ee05c8548281ad87a5a31237c646b57d0821d223de78da', 'pinpointengineers@hotmail.com', 'ACTIVE', 'Pin Point Engineers')\n",
      "('deepakku36', 'deepak', 'kumar', 'analyst', '64a23eb2b958a13f2c2bb04e3a9d8bebfb089ed9709919e71e719a4b7db6a746', 'pinpointengineers@hotmail.com', 'ACTIVE', 'Pin Point Engineers')\n",
      "('archanaj63', 'archana', 'j', 'documentcell', '46cca675fd3b78d2f301e83d1c7693987691098b6c1df21de0def72315d40d1e', 'pinpointengineers@hotmail.com', 'ACTIVE', 'Pin Point Engineers')\n",
      "('nirmalama64', 'nirmala', 'maurya', 'documentcell', 'e580759739a4e691a9e98b37f7a036500a0580902f3bb34aacdf6fa565b36f1d', 'pinpointengineers@hotmail.com', 'ACTIVE', 'Pin Point Engineers')\n",
      "('pummyne59', 'pummy', 'negi', 'documentcell', 'edc063b448ef119eed3a9b31c61370ea41fbbff7c5ae3b69de5972d9135727b2', 'pinpointengineers@hotmail.com', 'ACTIVE', 'Pin Point Engineers')\n"
     ]
    }
   ],
   "source": [
    "cursor.execute(\"select * from ppehvacdb.users\")\n",
    "\n",
    "for row in cursor:\n",
    "    print(row)"
   ]
  },
  {
   "cell_type": "code",
   "execution_count": 4,
   "metadata": {},
   "outputs": [],
   "source": [
    "cursor.execute(\"ALTER TABLE ppehvacdb.users ADD COMPANYNAME VARCHAR(300) DEFAULT 'Pin Point Engineers'\")\n",
    "conn.commit()"
   ]
  },
  {
   "cell_type": "code",
   "execution_count": 185,
   "metadata": {},
   "outputs": [
    {
     "ename": "NameError",
     "evalue": "name 'temp_row' is not defined",
     "output_type": "error",
     "traceback": [
      "\u001b[1;31m---------------------------------------------------------------------------\u001b[0m",
      "\u001b[1;31mNameError\u001b[0m                                 Traceback (most recent call last)",
      "\u001b[1;32m<ipython-input-185-6ef4f829076c>\u001b[0m in \u001b[0;36m<module>\u001b[1;34m\u001b[0m\n\u001b[1;32m----> 1\u001b[1;33m \u001b[0mtemp_row\u001b[0m\u001b[1;33m\u001b[0m\u001b[1;33m\u001b[0m\u001b[0m\n\u001b[0m",
      "\u001b[1;31mNameError\u001b[0m: name 'temp_row' is not defined"
     ]
    }
   ],
   "source": [
    "temp_row"
   ]
  },
  {
   "cell_type": "code",
   "execution_count": 2,
   "metadata": {},
   "outputs": [],
   "source": [
    "cursor.execute(\"\"\"\n",
    " drop table file_repo \n",
    "\n",
    "\"\"\")\n",
    "conn.commit()"
   ]
  },
  {
   "cell_type": "code",
   "execution_count": 3,
   "metadata": {},
   "outputs": [],
   "source": [
    "cursor.execute(\"\"\"\n",
    " create table file_repo (report_type varchar(255), report_number varchar(255),\n",
    "             prepared_by varchar(255),date varchar(255),timestamp varchar(255),\n",
    "             company_name varchar(255),room_name varchar(255),file_blob BLOB )\n",
    "\"\"\")\n",
    "conn.commit()"
   ]
  },
  {
   "cell_type": "code",
   "execution_count": 125,
   "metadata": {},
   "outputs": [],
   "source": [
    "company_name =\"Uni Medicolabs\"\n",
    "date='26/08/2022'\n",
    "report_type=\"AIR VELOCITY\"\n",
    "\n",
    "query =\"\"\"select count(*) from ppehvacdb.file_repo where\n",
    "               company_name='{}' and date ='{}' and report_type = '{}'\"\"\".format(company_name,date,report_type)\n",
    "cursor.execute(query)\n",
    "cursor.fetchall()[0][0]"
   ]
  },
  {
   "cell_type": "code",
   "execution_count": 126,
   "metadata": {},
   "outputs": [
    {
     "data": {
      "text/plain": [
       "'26082022'"
      ]
     },
     "execution_count": 126,
     "metadata": {},
     "output_type": "execute_result"
    }
   ],
   "source": [
    "date"
   ]
  },
  {
   "cell_type": "code",
   "execution_count": 11,
   "metadata": {},
   "outputs": [],
   "source": [
    "cursor.execute(\"truncate ppehvacdb.file_repo\")\n",
    "conn.commit()"
   ]
  },
  {
   "cell_type": "code",
   "execution_count": null,
   "metadata": {},
   "outputs": [],
   "source": [
    "pip install mysql-connector-python==8.0.29"
   ]
  },
  {
   "cell_type": "code",
   "execution_count": 24,
   "metadata": {},
   "outputs": [],
   "source": [
    "import pandas as pd"
   ]
  },
  {
   "cell_type": "code",
   "execution_count": 37,
   "metadata": {},
   "outputs": [
    {
     "data": {
      "text/plain": [
       "True"
      ]
     },
     "execution_count": 37,
     "metadata": {},
     "output_type": "execute_result"
    }
   ],
   "source": [
    "cursor.close()"
   ]
  },
  {
   "cell_type": "code",
   "execution_count": 13,
   "metadata": {},
   "outputs": [],
   "source": [
    "query = \"\"\"INSERT INTO ppehvacdb.equipment_master \n",
    "                 VALUES   ('Type' ,'EQUIPMENT_NAME' ,'MAKE' ,'MODEL_NUMBER','SR_NO_ID' ,\n",
    "                    'DONE_DATE' ,'DUE_DATE','STATUS','' ,'','') \n",
    "                     \"\"\"\n",
    "for i in range(20):\n",
    "    cursor.execute(query)\n",
    "    \n",
    "conn.commit()"
   ]
  },
  {
   "cell_type": "code",
   "execution_count": 15,
   "metadata": {},
   "outputs": [],
   "source": [
    "cursor.execute(\"select count(*) from ppehvacdb.equipment_master\")"
   ]
  },
  {
   "cell_type": "code",
   "execution_count": 16,
   "metadata": {},
   "outputs": [
    {
     "data": {
      "text/plain": [
       "<mysql.connector.cursor_cext.CMySQLCursor at 0x2841204c080>"
      ]
     },
     "execution_count": 16,
     "metadata": {},
     "output_type": "execute_result"
    }
   ],
   "source": [
    "cursor"
   ]
  },
  {
   "cell_type": "code",
   "execution_count": 17,
   "metadata": {},
   "outputs": [
    {
     "name": "stdout",
     "output_type": "stream",
     "text": [
      "(42,)\n"
     ]
    }
   ],
   "source": [
    "for row in cursor:\n",
    "    print(row)"
   ]
  },
  {
   "cell_type": "code",
   "execution_count": null,
   "metadata": {},
   "outputs": [],
   "source": [
    "'report_type', 'report_number',\n",
    "             'prepared_by','date','timestamp',\n",
    "             'company_name','file_blob'"
   ]
  },
  {
   "cell_type": "code",
   "execution_count": 61,
   "metadata": {},
   "outputs": [],
   "source": [
    "file_path =r\"C:\\Users\\Mayank\\Desktop\\HVAC_FINAL\\HVACFINAL\\static\\Report\\THERMAL_REPORT\\thermal.xlsx\"\n",
    "import pandas as pd\n",
    "trn_df = pd.read_excel(file_path,sheet_name=\"Hold Data\")\n",
    "#trn_df = trn_df.drop('STAGE', axis=1)\n",
    "trn_df_2=pd.DataFrame()\n",
    "trn_df_2['MIN'] = trn_df.drop(['DATE','TIME'], axis=1).min(axis=1)\n",
    "trn_df_2['MAX'] = trn_df.drop(['DATE','TIME','MIN'], axis=1).max(axis=1)\n",
    "trn_df_2['AVG'] = trn_df.drop(['DATE','TIME','MAX','MIN'], axis=1).mean(axis=1)\n",
    "trn_df_2['AVG'] = trn_df['AVG'].round(1)"
   ]
  },
  {
   "cell_type": "code",
   "execution_count": 63,
   "metadata": {},
   "outputs": [
    {
     "data": {
      "text/html": [
       "<div>\n",
       "<style scoped>\n",
       "    .dataframe tbody tr th:only-of-type {\n",
       "        vertical-align: middle;\n",
       "    }\n",
       "\n",
       "    .dataframe tbody tr th {\n",
       "        vertical-align: top;\n",
       "    }\n",
       "\n",
       "    .dataframe thead th {\n",
       "        text-align: right;\n",
       "    }\n",
       "</style>\n",
       "<table border=\"1\" class=\"dataframe\">\n",
       "  <thead>\n",
       "    <tr style=\"text-align: right;\">\n",
       "      <th></th>\n",
       "      <th>MIN</th>\n",
       "      <th>MAX</th>\n",
       "      <th>AVG</th>\n",
       "    </tr>\n",
       "  </thead>\n",
       "  <tbody>\n",
       "    <tr>\n",
       "      <th>0</th>\n",
       "      <td>120.4</td>\n",
       "      <td>122.2</td>\n",
       "      <td>121.3</td>\n",
       "    </tr>\n",
       "    <tr>\n",
       "      <th>1</th>\n",
       "      <td>120.8</td>\n",
       "      <td>122.4</td>\n",
       "      <td>121.6</td>\n",
       "    </tr>\n",
       "    <tr>\n",
       "      <th>2</th>\n",
       "      <td>120.1</td>\n",
       "      <td>122.2</td>\n",
       "      <td>121.2</td>\n",
       "    </tr>\n",
       "    <tr>\n",
       "      <th>3</th>\n",
       "      <td>120.9</td>\n",
       "      <td>122.3</td>\n",
       "      <td>121.6</td>\n",
       "    </tr>\n",
       "  </tbody>\n",
       "</table>\n",
       "</div>"
      ],
      "text/plain": [
       "     MIN    MAX    AVG\n",
       "0  120.4  122.2  121.3\n",
       "1  120.8  122.4  121.6\n",
       "2  120.1  122.2  121.2\n",
       "3  120.9  122.3  121.6"
      ]
     },
     "execution_count": 63,
     "metadata": {},
     "output_type": "execute_result"
    }
   ],
   "source": [
    "trn_df_3.head(4)"
   ]
  },
  {
   "cell_type": "code",
   "execution_count": 53,
   "metadata": {},
   "outputs": [],
   "source": [
    "column_list = trn_df.columns.tolist()\n",
    "action_list = ['min','max','mean']\n",
    "record_list = []\n",
    "for action in action_list:\n",
    "    record = []\n",
    "    record.append(action)\n",
    "    for i in range(2,(len(column_list)-3)):\n",
    "        operation = \"round(trn_df[column_list[i]].{}(),1)\".format(action)\n",
    "        record.append(eval(operation))\n",
    "    record_list.append(record)  \n",
    "trn_df2 = pd.DataFrame(record_list)"
   ]
  },
  {
   "cell_type": "code",
   "execution_count": 65,
   "metadata": {},
   "outputs": [],
   "source": [
    "file_path =r\"C:\\Users\\Mayank\\Desktop\\HVAC_FINAL\\HVACFINAL\\static\\Report\\THERMAL_REPORT\\thermal.xlsx\"\n",
    "import pandas as pd\n",
    "temp_df = pd.read_excel(file_path)\n",
    "trn_df_4 = temp_df[temp_df['STAGE']==\"In Sterlization Stage\"]\n",
    "trn_df_4 = trn_df_4.drop('STAGE', axis=1)"
   ]
  },
  {
   "cell_type": "code",
   "execution_count": 66,
   "metadata": {},
   "outputs": [
    {
     "data": {
      "text/html": [
       "<div>\n",
       "<style scoped>\n",
       "    .dataframe tbody tr th:only-of-type {\n",
       "        vertical-align: middle;\n",
       "    }\n",
       "\n",
       "    .dataframe tbody tr th {\n",
       "        vertical-align: top;\n",
       "    }\n",
       "\n",
       "    .dataframe thead th {\n",
       "        text-align: right;\n",
       "    }\n",
       "</style>\n",
       "<table border=\"1\" class=\"dataframe\">\n",
       "  <thead>\n",
       "    <tr style=\"text-align: right;\">\n",
       "      <th></th>\n",
       "      <th>DATE</th>\n",
       "      <th>TIME</th>\n",
       "      <th>CH01</th>\n",
       "      <th>CH02</th>\n",
       "    </tr>\n",
       "  </thead>\n",
       "  <tbody>\n",
       "    <tr>\n",
       "      <th>126</th>\n",
       "      <td>30-07-2022</td>\n",
       "      <td>14:35:04</td>\n",
       "      <td>120.8</td>\n",
       "      <td>122.3</td>\n",
       "    </tr>\n",
       "    <tr>\n",
       "      <th>127</th>\n",
       "      <td>30-07-2022</td>\n",
       "      <td>14:35:14</td>\n",
       "      <td>120.8</td>\n",
       "      <td>122.2</td>\n",
       "    </tr>\n",
       "    <tr>\n",
       "      <th>128</th>\n",
       "      <td>30-07-2022</td>\n",
       "      <td>14:35:24</td>\n",
       "      <td>120.9</td>\n",
       "      <td>122.4</td>\n",
       "    </tr>\n",
       "    <tr>\n",
       "      <th>129</th>\n",
       "      <td>30-07-2022</td>\n",
       "      <td>14:35:34</td>\n",
       "      <td>120.3</td>\n",
       "      <td>122.4</td>\n",
       "    </tr>\n",
       "    <tr>\n",
       "      <th>130</th>\n",
       "      <td>30-07-2022</td>\n",
       "      <td>14:35:44</td>\n",
       "      <td>120.6</td>\n",
       "      <td>122.4</td>\n",
       "    </tr>\n",
       "    <tr>\n",
       "      <th>...</th>\n",
       "      <td>...</td>\n",
       "      <td>...</td>\n",
       "      <td>...</td>\n",
       "      <td>...</td>\n",
       "    </tr>\n",
       "    <tr>\n",
       "      <th>301</th>\n",
       "      <td>30-07-2022</td>\n",
       "      <td>15:04:14</td>\n",
       "      <td>121.0</td>\n",
       "      <td>122.2</td>\n",
       "    </tr>\n",
       "    <tr>\n",
       "      <th>302</th>\n",
       "      <td>30-07-2022</td>\n",
       "      <td>15:04:24</td>\n",
       "      <td>120.6</td>\n",
       "      <td>122.3</td>\n",
       "    </tr>\n",
       "    <tr>\n",
       "      <th>303</th>\n",
       "      <td>30-07-2022</td>\n",
       "      <td>15:04:34</td>\n",
       "      <td>121.0</td>\n",
       "      <td>122.2</td>\n",
       "    </tr>\n",
       "    <tr>\n",
       "      <th>304</th>\n",
       "      <td>30-07-2022</td>\n",
       "      <td>15:04:44</td>\n",
       "      <td>120.4</td>\n",
       "      <td>122.3</td>\n",
       "    </tr>\n",
       "    <tr>\n",
       "      <th>305</th>\n",
       "      <td>30-07-2022</td>\n",
       "      <td>15:04:54</td>\n",
       "      <td>120.8</td>\n",
       "      <td>122.2</td>\n",
       "    </tr>\n",
       "  </tbody>\n",
       "</table>\n",
       "<p>180 rows × 4 columns</p>\n",
       "</div>"
      ],
      "text/plain": [
       "           DATE      TIME   CH01   CH02\n",
       "126  30-07-2022  14:35:04  120.8  122.3\n",
       "127  30-07-2022  14:35:14  120.8  122.2\n",
       "128  30-07-2022  14:35:24  120.9  122.4\n",
       "129  30-07-2022  14:35:34  120.3  122.4\n",
       "130  30-07-2022  14:35:44  120.6  122.4\n",
       "..          ...       ...    ...    ...\n",
       "301  30-07-2022  15:04:14  121.0  122.2\n",
       "302  30-07-2022  15:04:24  120.6  122.3\n",
       "303  30-07-2022  15:04:34  121.0  122.2\n",
       "304  30-07-2022  15:04:44  120.4  122.3\n",
       "305  30-07-2022  15:04:54  120.8  122.2\n",
       "\n",
       "[180 rows x 4 columns]"
      ]
     },
     "execution_count": 66,
     "metadata": {},
     "output_type": "execute_result"
    }
   ],
   "source": [
    "trn_df_4\n",
    "for i in range(2,(len(column_list))):\n",
    "    trn_df_4[column_list[i]] = trn_df_4[column_list[i]]*10"
   ]
  },
  {
   "cell_type": "code",
   "execution_count": 67,
   "metadata": {},
   "outputs": [
    {
     "data": {
      "text/html": [
       "<div>\n",
       "<style scoped>\n",
       "    .dataframe tbody tr th:only-of-type {\n",
       "        vertical-align: middle;\n",
       "    }\n",
       "\n",
       "    .dataframe tbody tr th {\n",
       "        vertical-align: top;\n",
       "    }\n",
       "\n",
       "    .dataframe thead th {\n",
       "        text-align: right;\n",
       "    }\n",
       "</style>\n",
       "<table border=\"1\" class=\"dataframe\">\n",
       "  <thead>\n",
       "    <tr style=\"text-align: right;\">\n",
       "      <th></th>\n",
       "      <th>DATE</th>\n",
       "      <th>TIME</th>\n",
       "      <th>CH01</th>\n",
       "      <th>CH02</th>\n",
       "      <th>STAGE</th>\n",
       "    </tr>\n",
       "  </thead>\n",
       "  <tbody>\n",
       "    <tr>\n",
       "      <th>0</th>\n",
       "      <td>30-07-2022</td>\n",
       "      <td>14:14:04</td>\n",
       "      <td>80.3</td>\n",
       "      <td>79.9</td>\n",
       "      <td>Cycle Started</td>\n",
       "    </tr>\n",
       "    <tr>\n",
       "      <th>1</th>\n",
       "      <td>30-07-2022</td>\n",
       "      <td>14:14:14</td>\n",
       "      <td>80.5</td>\n",
       "      <td>80.3</td>\n",
       "      <td>Cycle Started</td>\n",
       "    </tr>\n",
       "  </tbody>\n",
       "</table>\n",
       "</div>"
      ],
      "text/plain": [
       "         DATE      TIME  CH01  CH02          STAGE\n",
       "0  30-07-2022  14:14:04  80.3  79.9  Cycle Started\n",
       "1  30-07-2022  14:14:14  80.5  80.3  Cycle Started"
      ]
     },
     "execution_count": 67,
     "metadata": {},
     "output_type": "execute_result"
    }
   ],
   "source": [
    "temp_df.head(2)"
   ]
  },
  {
   "cell_type": "code",
   "execution_count": 91,
   "metadata": {},
   "outputs": [
    {
     "data": {
      "image/png": "[encoded data removed]",
      "text/plain": [
       "<Figure size 432x288 with 1 Axes>"
      ]
     },
     "metadata": {
      "needs_background": "light"
     },
     "output_type": "display_data"
    }
   ],
   "source": [
    "import matplotlib.pyplot as plt\n",
    "\n",
    "temp_df = pd.read_excel(file_path)\n",
    "trn_df_4 = temp_df[temp_df['STAGE']==\"In Sterlization Stage\"]\n",
    "trn_df_4 = trn_df_4.drop('STAGE', axis=1)\n",
    "column_list = trn_df_4.columns.tolist()\n",
    "for i in range(2,(len(column_list))):\n",
    "    plt.plot(trn_df_4['TIME'], trn_df_4[column_list[i]])\n",
    "plt.savefig(\"123.png\")"
   ]
  },
  {
   "cell_type": "code",
   "execution_count": 86,
   "metadata": {},
   "outputs": [
    {
     "data": {
      "text/plain": [
       "0      79.9\n",
       "1      80.3\n",
       "2      80.2\n",
       "3      80.2\n",
       "4      80.9\n",
       "       ... \n",
       "374    22.9\n",
       "375    22.2\n",
       "376    21.6\n",
       "377    20.7\n",
       "378    20.3\n",
       "Name: CH02, Length: 379, dtype: float64"
      ]
     },
     "execution_count": 86,
     "metadata": {},
     "output_type": "execute_result"
    }
   ],
   "source": [
    "temp_df['CH02']"
   ]
  },
  {
   "cell_type": "code",
   "execution_count": null,
   "metadata": {},
   "outputs": [],
   "source": []
  }
 ],
 "metadata": {
  "kernelspec": {
   "display_name": "Python 3",
   "language": "python",
   "name": "python3"
  },
  "language_info": {
   "codemirror_mode": {
    "name": "ipython",
    "version": 3
   },
   "file_extension": ".py",
   "mimetype": "text/x-python",
   "name": "python",
   "nbconvert_exporter": "python",
   "pygments_lexer": "ipython3",
   "version": "3.6.10"
  }
 },
 "nbformat": 4,
 "nbformat_minor": 2
}
