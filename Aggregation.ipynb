{
 "cells": [
  {
   "cell_type": "code",
   "execution_count": null,
   "metadata": {},
   "outputs": [],
   "source": [
    "import pandas as pd\n",
    "import datetime\n",
    "import time\n",
    "import os\n",
    "import mysql.connector\n",
    "from mysql.connector import errorcode\n",
    "from dateutil.tz import gettz\n",
    "import os \n",
    "import io\n",
    "from crypt_services import encrypt_sha256\n",
    "import base64\n",
    "from base64 import b64encode\n",
    "MYDIR        = os.path.dirname(__file__)\n",
    "\n",
    "   \n",
    "config = {\n",
    "  'host':\"pinpointserver.mysql.database.azure.com\",\n",
    "  'port':\"3306\",\n",
    "  'user':\"arissdb\",\n",
    "  'password':\"ppedbpass@12\",\n",
    "  'db':'PPEHVACDB'\n",
    "}\n"
   ]
  }
 ],
 "metadata": {
  "kernelspec": {
   "display_name": "Python 3",
   "language": "python",
   "name": "python3"
  },
  "language_info": {
   "codemirror_mode": {
    "name": "ipython",
    "version": 3
   },
   "file_extension": ".py",
   "mimetype": "text/x-python",
   "name": "python",
   "nbconvert_exporter": "python",
   "pygments_lexer": "ipython3",
   "version": "3.6.10"
  }
 },
 "nbformat": 4,
 "nbformat_minor": 4
}
